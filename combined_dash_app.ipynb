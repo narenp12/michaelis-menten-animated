{
 "cells": [
  {
   "cell_type": "code",
   "execution_count": 1,
   "metadata": {},
   "outputs": [],
   "source": [
    "import numpy as np\n",
    "import pandas as pd\n",
    "from dash import Dash, dcc, html, Input, Output\n",
    "import plotly.express as px\n",
    "import statsmodels.api as sm\n",
    "import statsmodels.formula.api as smf"
   ]
  },
  {
   "cell_type": "code",
   "execution_count": 2,
   "metadata": {},
   "outputs": [],
   "source": [
    "data = pd.read_csv(\"vmkmki_mmdata.csv\")\n",
    "data = data.rename(columns={\"S\": \"s\", \"I\": \"i\"})"
   ]
  },
  {
   "cell_type": "code",
   "execution_count": 3,
   "metadata": {},
   "outputs": [],
   "source": [
    "def noncompetitive_inhibition(vmax, s, m_const, i, i_const):\n",
    "    alpha = 1 + i / i_const\n",
    "    return ((vmax / alpha) * s) / (s + m_const)\n",
    "\n",
    "\n",
    "def competitive_inhibition(vmax, s, m_const, i, i_const):\n",
    "    alpha = 1 + i / i_const\n",
    "    return (vmax * s) / (alpha * m_const + s)\n",
    "\n",
    "\n",
    "def uncompetitive_inhibition(vmax, s, m_const, i, i_const):\n",
    "    alpha = 1 + i / i_const\n",
    "    return ((vmax / alpha) * s) / ((m_const / alpha) + s)"
   ]
  },
  {
   "cell_type": "code",
   "execution_count": 4,
   "metadata": {},
   "outputs": [],
   "source": [
    "def km_solve(df):\n",
    "    v = 1 / df[\"v\"]\n",
    "    v = v.replace({np.inf: 0})\n",
    "    s = 1 / df[\"s\"]\n",
    "    s = s.replace({np.inf: 0})\n",
    "\n",
    "    linmod = sm.OLS(v, s).fit()\n",
    "    return linmod.params.iloc[0] * df[\"v\"]"
   ]
  },
  {
   "cell_type": "code",
   "execution_count": 5,
   "metadata": {},
   "outputs": [],
   "source": [
    "m_const = km_solve(data)\n",
    "i_const = m_const * (data[\"i\"] / (m_const - 1))"
   ]
  },
  {
   "cell_type": "code",
   "execution_count": 6,
   "metadata": {},
   "outputs": [],
   "source": [
    "data = data.eval(\n",
    "    \"\"\" \n",
    "k_m = @m_const\n",
    "k_i = @i_const\n",
    "\"\"\"\n",
    ")\n",
    "obs = data[data[\"s\"] > 0]"
   ]
  },
  {
   "cell_type": "code",
   "execution_count": 7,
   "metadata": {},
   "outputs": [],
   "source": [
    "ni_v = noncompetitive_inhibition(obs[\"v\"], obs[\"s\"], obs[\"k_m\"], obs[\"i\"], obs[\"k_i\"])\n",
    "nc_obs = obs.eval(\"ni_v = @ni_v\").dropna()"
   ]
  },
  {
   "cell_type": "code",
   "execution_count": 8,
   "metadata": {},
   "outputs": [],
   "source": [
    "ci_v = competitive_inhibition(obs[\"v\"], obs[\"s\"], obs[\"k_m\"], obs[\"i\"], obs[\"k_i\"])\n",
    "c_obs = obs.eval(\"ci_v = @ci_v\").dropna()"
   ]
  },
  {
   "cell_type": "code",
   "execution_count": 9,
   "metadata": {},
   "outputs": [],
   "source": [
    "ui_v = uncompetitive_inhibition(obs[\"v\"], obs[\"s\"], obs[\"k_m\"], obs[\"i\"], obs[\"k_i\"])\n",
    "u_obs = obs.eval(\"ui_v = @ui_v\").dropna()"
   ]
  },
  {
   "cell_type": "code",
   "execution_count": 10,
   "metadata": {},
   "outputs": [
    {
     "name": "stderr",
     "output_type": "stream",
     "text": [
      "Address already in use\n",
      "Port 8050 is in use by another program. Either identify and stop that program, or start the server with a different port.\n"
     ]
    },
    {
     "ename": "SystemExit",
     "evalue": "1",
     "output_type": "error",
     "traceback": [
      "An exception has occurred, use %tb to see the full traceback.\n",
      "\u001b[0;31mSystemExit\u001b[0m\u001b[0;31m:\u001b[0m 1\n"
     ]
    },
    {
     "name": "stderr",
     "output_type": "stream",
     "text": [
      "/home/narenprax/miniconda3/envs/ml_env/lib/python3.12/site-packages/IPython/core/interactiveshell.py:3585: UserWarning:\n",
      "\n",
      "To exit: use 'exit', 'quit', or Ctrl-D.\n",
      "\n"
     ]
    }
   ],
   "source": [
    "app_combined = Dash(__name__)\n",
    "\n",
    "app_combined.layout = html.Div(\n",
    "    [\n",
    "        html.H1(\"Michaelis-Menten Kinetics with Different Inhibition Types\"),\n",
    "        dcc.Tabs(\n",
    "            id=\"tabs\",\n",
    "            value=\"tab-1\",  # Default selected tab\n",
    "            children=[\n",
    "                dcc.Tab(\n",
    "                    label=\"Noncompetitive Inhibition\",\n",
    "                    value=\"tab-1\",\n",
    "                    children=[\n",
    "                        html.Label(\"Select concentration of inhibitor:\"),\n",
    "                        dcc.Dropdown(\n",
    "                            id=\"i-dropdown-nc\",\n",
    "                            options=[\n",
    "                                {\"label\": val, \"value\": val}\n",
    "                                for val in nc_obs[\"i\"].unique()\n",
    "                            ],\n",
    "                            value=nc_obs[\"i\"].unique()[0],\n",
    "                        ),\n",
    "                        dcc.Graph(id=\"scatter-plot-nc\"),\n",
    "                    ],\n",
    "                ),\n",
    "                dcc.Tab(\n",
    "                    label=\"Competitive Inhibition\",\n",
    "                    value=\"tab-2\",\n",
    "                    children=[\n",
    "                        html.Label(\"Select concentration of inhibitor:\"),\n",
    "                        dcc.Dropdown(\n",
    "                            id=\"i-dropdown-c\",\n",
    "                            options=[\n",
    "                                {\"label\": val, \"value\": val}\n",
    "                                for val in c_obs[\"i\"].unique()\n",
    "                            ],\n",
    "                            value=c_obs[\"i\"].unique()[0],\n",
    "                        ),\n",
    "                        dcc.Graph(id=\"scatter-plot-c\"),\n",
    "                    ],\n",
    "                ),\n",
    "                dcc.Tab(\n",
    "                    label=\"Uncompetitive Inhibition\",\n",
    "                    value=\"tab-3\",\n",
    "                    children=[\n",
    "                        html.Label(\"Select concentration of inhibitor:\"),\n",
    "                        dcc.Dropdown(\n",
    "                            id=\"i-dropdown-u\",\n",
    "                            options=[\n",
    "                                {\"label\": val, \"value\": val}\n",
    "                                for val in u_obs[\"i\"].unique()\n",
    "                            ],\n",
    "                            value=u_obs[\"i\"].unique()[0],\n",
    "                        ),\n",
    "                        dcc.Graph(id=\"scatter-plot-u\"),\n",
    "                    ],\n",
    "                ),\n",
    "            ],\n",
    "        ),\n",
    "    ]\n",
    ")\n",
    "\n",
    "\n",
    "# Callbacks to update the plots for each inhibition type\n",
    "@app_combined.callback(\n",
    "    Output(\"scatter-plot-nc\", \"figure\"), [Input(\"i-dropdown-nc\", \"value\")]\n",
    ")\n",
    "def update_plot_nc(selected_i):\n",
    "    filtered_data = nc_obs[nc_obs[\"i\"] == selected_i]\n",
    "    fig = px.scatter(\n",
    "        filtered_data,\n",
    "        x=np.log(filtered_data[\"s\"]),\n",
    "        y=\"ni_v\",\n",
    "        color=\"s\",\n",
    "        title=f\"Scatter plot for inhibitor concentration = {selected_i}\",\n",
    "        labels={\n",
    "            \"ni_v\": \"Reaction velocity (v)\",\n",
    "            \"x\": \"Log of substrate concentration\",\n",
    "            \"s\": \"Substrate concentration (s)\",\n",
    "        },\n",
    "        trendline=\"ols\",\n",
    "        trendline_options=dict(log_x=True),\n",
    "    )\n",
    "    return fig\n",
    "\n",
    "\n",
    "@app_combined.callback(\n",
    "    Output(\"scatter-plot-c\", \"figure\"), [Input(\"i-dropdown-c\", \"value\")]\n",
    ")\n",
    "def update_plot_c(selected_i):\n",
    "    filtered_data = c_obs[c_obs[\"i\"] == selected_i]\n",
    "    fig = px.scatter(\n",
    "        filtered_data,\n",
    "        x=np.log(filtered_data[\"s\"]),\n",
    "        y=\"ci_v\",\n",
    "        color=\"s\",\n",
    "        title=f\"Scatter plot for inhibitor concentration = {selected_i}\",\n",
    "        labels={\n",
    "            \"ci_v\": \"Reaction velocity (v)\",\n",
    "            \"x\": \"Log of substrate concentration\",\n",
    "            \"s\": \"Substrate concentration (s)\",\n",
    "        },\n",
    "        trendline=\"ols\",\n",
    "        trendline_options=dict(log_x=True),\n",
    "    )\n",
    "    return fig\n",
    "\n",
    "\n",
    "@app_combined.callback(\n",
    "    Output(\"scatter-plot-u\", \"figure\"), [Input(\"i-dropdown-u\", \"value\")]\n",
    ")\n",
    "def update_plot_u(selected_i):\n",
    "    filtered_data = u_obs[u_obs[\"i\"] == selected_i]\n",
    "    fig = px.scatter(\n",
    "        filtered_data,\n",
    "        x=np.log(filtered_data[\"s\"]),\n",
    "        y=\"ui_v\",\n",
    "        color=\"s\",\n",
    "        title=f\"Scatter plot for inhibitor concentration = {selected_i}\",\n",
    "        labels={\n",
    "            \"ui_v\": \"Reaction velocity (v)\",\n",
    "            \"x\": \"Log of substrate concentration\",\n",
    "            \"s\": \"Substrate concentration (s)\",\n",
    "        },\n",
    "        trendline=\"ols\",\n",
    "        trendline_options=dict(log_x=True),\n",
    "    )\n",
    "    return fig\n",
    "\n",
    "\n",
    "# Run the combined app\n",
    "if __name__ == \"__main__\":\n",
    "    app_combined.run_server(debug=True)"
   ]
  }
 ],
 "metadata": {
  "kernelspec": {
   "display_name": "ml_env",
   "language": "python",
   "name": "python3"
  },
  "language_info": {
   "codemirror_mode": {
    "name": "ipython",
    "version": 3
   },
   "file_extension": ".py",
   "mimetype": "text/x-python",
   "name": "python",
   "nbconvert_exporter": "python",
   "pygments_lexer": "ipython3",
   "version": "3.12.8"
  }
 },
 "nbformat": 4,
 "nbformat_minor": 2
}
