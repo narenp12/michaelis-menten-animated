{
 "cells": [
  {
   "cell_type": "markdown",
   "metadata": {},
   "source": [
    "# Michaelis-Menten with different types of inhibition: Interactive Plots"
   ]
  },
  {
   "cell_type": "code",
   "execution_count": 1,
   "metadata": {},
   "outputs": [],
   "source": [
    "import numpy as np\n",
    "import pandas as pd\n",
    "from dash import Dash, dcc, html, Input, Output\n",
    "import plotly.express as px\n",
    "import statsmodels.api as sm\n",
    "import statsmodels.formula.api as smf"
   ]
  },
  {
   "cell_type": "code",
   "execution_count": 2,
   "metadata": {},
   "outputs": [],
   "source": [
    "data = pd.read_csv(\"vmkmki_mmdata.csv\")\n",
    "data = data.rename(columns={\"S\": \"s\", \"I\": \"i\"})"
   ]
  },
  {
   "cell_type": "markdown",
   "metadata": {},
   "source": [
    "## Note on the meaning of the data and columns\n",
    "- **s** represents the concentration of the substrate\n",
    "- **i** represents the concentration of the inhibitor\n",
    "- **v** represents the reaction rate"
   ]
  },
  {
   "cell_type": "code",
   "execution_count": 3,
   "metadata": {},
   "outputs": [],
   "source": [
    "def noncompetitive_inhibition(vmax, s, m_const, i, i_const):\n",
    "    alpha = 1 + i / i_const\n",
    "    return ((vmax / alpha) * s) / (s + m_const)\n",
    "\n",
    "\n",
    "def competitive_inhibition(vmax, s, m_const, i, i_const):\n",
    "    alpha = 1 + i / i_const\n",
    "    return (vmax * s) / (alpha * m_const + s)\n",
    "\n",
    "\n",
    "def uncompetitive_inhibition(vmax, s, m_const, i, i_const):\n",
    "    alpha = 1 + i / i_const\n",
    "    return ((vmax / alpha) * s) / ((m_const / alpha) + s)"
   ]
  },
  {
   "cell_type": "markdown",
   "metadata": {},
   "source": [
    "## Lineweaver Burk Plots\n",
    "\n",
    "With the data only providing the terms S, V_max, and I and not the constants of K_m and K_i we need to calculate them separately using our experimental data.\n",
    "\n",
    "Note: K_m can be used to solve for K_i depending on the type of the inhibition"
   ]
  },
  {
   "cell_type": "code",
   "execution_count": 4,
   "metadata": {},
   "outputs": [],
   "source": [
    "def km_solve(df):\n",
    "    v = 1 / df[\"v\"]\n",
    "    v = v.replace({np.inf: 0})\n",
    "    s = 1 / df[\"s\"]\n",
    "    s = s.replace({np.inf: 0})\n",
    "\n",
    "    linmod = sm.OLS(v, s).fit()\n",
    "    return linmod.params.iloc[0] * df[\"v\"]"
   ]
  },
  {
   "cell_type": "code",
   "execution_count": 5,
   "metadata": {},
   "outputs": [],
   "source": [
    "m_const = km_solve(data)\n",
    "i_const = m_const * (data[\"i\"] / (m_const - 1))"
   ]
  },
  {
   "cell_type": "code",
   "execution_count": 6,
   "metadata": {},
   "outputs": [],
   "source": [
    "data = data.eval(\n",
    "    \"\"\" \n",
    "k_m = @m_const\n",
    "k_i = @i_const\n",
    "\"\"\"\n",
    ")\n",
    "obs = data[data[\"s\"] > 0]"
   ]
  },
  {
   "cell_type": "code",
   "execution_count": 7,
   "metadata": {},
   "outputs": [],
   "source": [
    "ni_v = noncompetitive_inhibition(obs[\"v\"], obs[\"s\"], obs[\"k_m\"], obs[\"i\"], obs[\"k_i\"])\n",
    "nc_obs = obs.eval(\"ni_v = @ni_v\").dropna()"
   ]
  },
  {
   "cell_type": "code",
   "execution_count": 8,
   "metadata": {},
   "outputs": [],
   "source": [
    "ci_v = competitive_inhibition(obs[\"v\"], obs[\"s\"], obs[\"k_m\"], obs[\"i\"], obs[\"k_i\"])\n",
    "c_obs = obs.eval(\"ci_v = @ci_v\").dropna()"
   ]
  },
  {
   "cell_type": "code",
   "execution_count": 9,
   "metadata": {},
   "outputs": [],
   "source": [
    "ui_v = uncompetitive_inhibition(obs[\"v\"], obs[\"s\"], obs[\"k_m\"], obs[\"i\"], obs[\"k_i\"])\n",
    "u_obs = obs.eval(\"ui_v = @ui_v\").dropna()"
   ]
  },
  {
   "cell_type": "markdown",
   "metadata": {},
   "source": [
    "# Interactive Plots"
   ]
  },
  {
   "cell_type": "markdown",
   "metadata": {},
   "source": [
    "## Noncompetitive Inhibition"
   ]
  },
  {
   "cell_type": "code",
   "execution_count": 10,
   "metadata": {},
   "outputs": [
    {
     "data": {
      "text/html": [
       "\n",
       "        <iframe\n",
       "            width=\"100%\"\n",
       "            height=\"650\"\n",
       "            src=\"http://127.0.0.1:8050/\"\n",
       "            frameborder=\"0\"\n",
       "            allowfullscreen\n",
       "            \n",
       "        ></iframe>\n",
       "        "
      ],
      "text/plain": [
       "<IPython.lib.display.IFrame at 0x7f8026cb7440>"
      ]
     },
     "metadata": {},
     "output_type": "display_data"
    }
   ],
   "source": [
    "app = Dash(__name__)\n",
    "\n",
    "app.layout = html.Div(\n",
    "    [\n",
    "        html.H1(\n",
    "            \"Michaelis-Menten (noncompetitive inhibition) by concentration of inhibitor\"\n",
    "        ),\n",
    "        html.Label(\"Select concentration of inhibitor:\"),\n",
    "        dcc.Dropdown(\n",
    "            id=\"i-dropdown\",\n",
    "            options=[{\"label\": val, \"value\": val} for val in nc_obs[\"i\"].unique()],\n",
    "            value=nc_obs[\"i\"].unique()[0],\n",
    "        ),\n",
    "        dcc.Graph(id=\"scatter-plot\"),\n",
    "    ]\n",
    ")\n",
    "\n",
    "\n",
    "# Callback to update the plot\n",
    "@app.callback(Output(\"scatter-plot\", \"figure\"), [Input(\"i-dropdown\", \"value\")])\n",
    "def update_plot(selected_i):\n",
    "    filtered_data = nc_obs[nc_obs[\"i\"] == selected_i]\n",
    "    fig = px.scatter(\n",
    "        filtered_data,\n",
    "        x=np.log(filtered_data[\"s\"]),\n",
    "        y=\"ni_v\",\n",
    "        color=\"s\",\n",
    "        title=f\"Scatter plot for inhibitor concentration = {selected_i}\",\n",
    "        labels={\n",
    "            \"ni_v\": \"Reaction velocity (v)\",\n",
    "            \"x\": \"Log of substrate concentration\",\n",
    "            \"s\": \"Substrate concentration (s)\",\n",
    "        },\n",
    "        trendline=\"ols\",\n",
    "        trendline_options=dict(log_x=True),\n",
    "    )\n",
    "    return fig\n",
    "\n",
    "\n",
    "# Run the app\n",
    "if __name__ == \"__main__\":\n",
    "    app.run_server(debug=True)"
   ]
  },
  {
   "cell_type": "markdown",
   "metadata": {},
   "source": [
    "## Competitive Inhibition"
   ]
  },
  {
   "cell_type": "code",
   "execution_count": 11,
   "metadata": {},
   "outputs": [
    {
     "data": {
      "text/html": [
       "\n",
       "        <iframe\n",
       "            width=\"100%\"\n",
       "            height=\"650\"\n",
       "            src=\"http://127.0.0.1:8050/\"\n",
       "            frameborder=\"0\"\n",
       "            allowfullscreen\n",
       "            \n",
       "        ></iframe>\n",
       "        "
      ],
      "text/plain": [
       "<IPython.lib.display.IFrame at 0x7f80256cf200>"
      ]
     },
     "metadata": {},
     "output_type": "display_data"
    }
   ],
   "source": [
    "app2 = Dash(__name__)\n",
    "\n",
    "app2.layout = html.Div(\n",
    "    [\n",
    "        html.H1(\n",
    "            \"Michaelis-Menten (competitive inhibition) by concentration of inhibitor\"\n",
    "        ),\n",
    "        html.Label(\"Select concentration of inhibitor:\"),\n",
    "        dcc.Dropdown(\n",
    "            id=\"i-dropdown\",\n",
    "            options=[{\"label\": val, \"value\": val} for val in c_obs[\"i\"].unique()],\n",
    "            value=c_obs[\"i\"].unique()[0],\n",
    "        ),\n",
    "        dcc.Graph(id=\"scatter-plot\"),\n",
    "    ]\n",
    ")\n",
    "\n",
    "\n",
    "# Callback to update the plot\n",
    "@app2.callback(Output(\"scatter-plot\", \"figure\"), [Input(\"i-dropdown\", \"value\")])\n",
    "def update_plot(selected_i):\n",
    "    filtered_data = c_obs[c_obs[\"i\"] == selected_i]\n",
    "    fig = px.scatter(\n",
    "        filtered_data,\n",
    "        x=np.log(filtered_data[\"s\"]),\n",
    "        y=\"ci_v\",\n",
    "        color=\"s\",\n",
    "        title=f\"Scatter plot for inhibitor concentration = {selected_i}\",\n",
    "        labels={\n",
    "            \"ci_v\": \"Reaction velocity (v)\",\n",
    "            \"x\": \"Log of substrate concentration\",\n",
    "            \"s\": \"Substrate concentration (s)\",\n",
    "        },\n",
    "        trendline=\"ols\",\n",
    "        trendline_options=dict(log_x=True),\n",
    "    )\n",
    "    return fig\n",
    "\n",
    "\n",
    "# Run the app\n",
    "if __name__ == \"__main__\":\n",
    "    app2.run_server(debug=True)"
   ]
  },
  {
   "cell_type": "markdown",
   "metadata": {},
   "source": [
    "## Uncompetitive inhibition"
   ]
  },
  {
   "cell_type": "code",
   "execution_count": 12,
   "metadata": {},
   "outputs": [
    {
     "data": {
      "text/html": [
       "\n",
       "        <iframe\n",
       "            width=\"100%\"\n",
       "            height=\"650\"\n",
       "            src=\"http://127.0.0.1:8050/\"\n",
       "            frameborder=\"0\"\n",
       "            allowfullscreen\n",
       "            \n",
       "        ></iframe>\n",
       "        "
      ],
      "text/plain": [
       "<IPython.lib.display.IFrame at 0x7f8023c9dd60>"
      ]
     },
     "metadata": {},
     "output_type": "display_data"
    }
   ],
   "source": [
    "app3 = Dash(__name__)\n",
    "\n",
    "app3.layout = html.Div(\n",
    "    [\n",
    "        html.H1(\n",
    "            \"Michaelis-Menten (uncompetitive inhibition) by concentration of inhibitor\"\n",
    "        ),\n",
    "        html.Label(\"Select concentration of inhibitor:\"),\n",
    "        dcc.Dropdown(\n",
    "            id=\"i-dropdown\",\n",
    "            options=[{\"label\": val, \"value\": val} for val in u_obs[\"i\"].unique()],\n",
    "            value=u_obs[\"i\"].unique()[0],\n",
    "        ),\n",
    "        dcc.Graph(id=\"scatter-plot\"),\n",
    "    ]\n",
    ")\n",
    "\n",
    "\n",
    "# Callback to update the plot\n",
    "@app3.callback(Output(\"scatter-plot\", \"figure\"), [Input(\"i-dropdown\", \"value\")])\n",
    "def update_plot(selected_i):\n",
    "    filtered_data = u_obs[u_obs[\"i\"] == selected_i]\n",
    "    fig = px.scatter(\n",
    "        filtered_data,\n",
    "        x=np.log(filtered_data[\"s\"]),\n",
    "        y=\"ui_v\",\n",
    "        color=\"s\",\n",
    "        title=f\"Scatter plot for inhibitor concentration = {selected_i}\",\n",
    "        labels={\n",
    "            \"ui_v\": \"Reaction velocity (v)\",\n",
    "            \"x\": \"Log of substrate concentration\",\n",
    "            \"s\": \"Substrate concentration (s)\",\n",
    "        },\n",
    "        trendline=\"ols\",\n",
    "        trendline_options=dict(log_x=True),\n",
    "    )\n",
    "    return fig\n",
    "\n",
    "\n",
    "# Run the app\n",
    "if __name__ == \"__main__\":\n",
    "    app3.run_server(debug=True)"
   ]
  }
 ],
 "metadata": {
  "kernelspec": {
   "display_name": "ml_env",
   "language": "python",
   "name": "python3"
  },
  "language_info": {
   "codemirror_mode": {
    "name": "ipython",
    "version": 3
   },
   "file_extension": ".py",
   "mimetype": "text/x-python",
   "name": "python",
   "nbconvert_exporter": "python",
   "pygments_lexer": "ipython3",
   "version": "3.12.8"
  }
 },
 "nbformat": 4,
 "nbformat_minor": 2
}
